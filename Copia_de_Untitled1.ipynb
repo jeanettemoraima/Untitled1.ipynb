{
  "nbformat": 4,
  "nbformat_minor": 0,
  "metadata": {
    "colab": {
      "provenance": [],
      "authorship_tag": "ABX9TyOOa+YOMiQdKSz6tgbKgg7u",
      "include_colab_link": true
    },
    "kernelspec": {
      "name": "python3",
      "display_name": "Python 3"
    },
    "language_info": {
      "name": "python"
    }
  },
  "cells": [
    {
      "cell_type": "markdown",
      "metadata": {
        "id": "view-in-github",
        "colab_type": "text"
      },
      "source": [
        "<a href=\"https://colab.research.google.com/github/jeanettemoraima/Untitled1.ipynb/blob/main/Copia_de_Untitled1.ipynb\" target=\"_parent\"><img src=\"https://colab.research.google.com/assets/colab-badge.svg\" alt=\"Open In Colab\"/></a>"
      ]
    },
    {
      "cell_type": "code",
      "execution_count": null,
      "metadata": {
        "colab": {
          "base_uri": "https://localhost:8080/"
        },
        "id": "y0HbVMARQRVz",
        "outputId": "a972dcb0-cf69-4cfd-8e91-ee27a0b2b19c"
      },
      "outputs": [
        {
          "output_type": "stream",
          "name": "stdout",
          "text": [
            "escuela de datos de alura\n"
          ]
        }
      ],
      "source": [
        "print(\"escuela de datos de alura\")"
      ]
    },
    {
      "cell_type": "code",
      "source": [
        "print(\"Nombre: Jeanette\")\n",
        "print(\"Apellido: Mendoza\")"
      ],
      "metadata": {
        "colab": {
          "base_uri": "https://localhost:8080/"
        },
        "id": "3ZN3vslcQpYu",
        "outputId": "5192ab36-b191-49d9-89a6-5589a59f6cbb"
      },
      "execution_count": null,
      "outputs": [
        {
          "output_type": "stream",
          "name": "stdout",
          "text": [
            "Nombre: Jeanette\n",
            "Apellido: Mendoza\n"
          ]
        }
      ]
    },
    {
      "cell_type": "code",
      "source": [
        "print(\"J\")\n",
        "print(\"e\")\n",
        "print(\"a\")\n",
        "print(\"n\")\n",
        "print(\"e\")\n",
        "print(\"t\")\n",
        "print(\"t\")\n",
        "print(\"e\")"
      ],
      "metadata": {
        "colab": {
          "base_uri": "https://localhost:8080/"
        },
        "id": "qEGz1FmfRFAV",
        "outputId": "3372dd11-71cf-4edf-b4a8-9f17759f1bff"
      },
      "execution_count": null,
      "outputs": [
        {
          "output_type": "stream",
          "name": "stdout",
          "text": [
            "J\n",
            "e\n",
            "a\n",
            "n\n",
            "e\n",
            "t\n",
            "t\n",
            "e\n"
          ]
        }
      ]
    },
    {
      "cell_type": "code",
      "source": [
        "print(5, \"abril\", 1983)"
      ],
      "metadata": {
        "colab": {
          "base_uri": "https://localhost:8080/"
        },
        "id": "2Y1sMV4TSShO",
        "outputId": "e7205273-cb3f-412f-aa6d-5e7817063539"
      },
      "execution_count": null,
      "outputs": [
        {
          "output_type": "stream",
          "name": "stdout",
          "text": [
            "5 abril 1983\n"
          ]
        }
      ]
    },
    {
      "cell_type": "code",
      "source": [
        "print(\"Año actual\", 2025)"
      ],
      "metadata": {
        "colab": {
          "base_uri": "https://localhost:8080/"
        },
        "id": "8NxIst7-S3oB",
        "outputId": "ae07450c-d7ff-4432-ed6e-8e7083b7e55b"
      },
      "execution_count": null,
      "outputs": [
        {
          "output_type": "stream",
          "name": "stdout",
          "text": [
            "Año actual 2025\n"
          ]
        }
      ]
    }
  ]
}